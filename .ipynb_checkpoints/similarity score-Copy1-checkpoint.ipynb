{
 "cells": [
  {
   "cell_type": "code",
   "execution_count": null,
   "id": "3d1adfdc",
   "metadata": {},
   "outputs": [],
   "source": [
    "import spacy\n",
    "from spacy.language import Language\n"
   ]
  },
  {
   "cell_type": "code",
   "execution_count": 2,
   "id": "f1bbb022",
   "metadata": {},
   "outputs": [
    {
     "name": "stdout",
     "output_type": "stream",
     "text": [
      "['tok2vec', 'tagger', 'attribute_ruler', 'lemmatizer']\n"
     ]
    }
   ],
   "source": [
    "nlp = spacy.load('en_core_web_lg',disable = ['ner', 'parser'])\n",
    "spacy_stopwords = spacy.lang.en.stop_words.STOP_WORDS\n",
    "print(nlp.pipe_names)"
   ]
  },
  {
   "cell_type": "code",
   "execution_count": 3,
   "id": "45878ef9",
   "metadata": {},
   "outputs": [],
   "source": [
    "doc = \"\"\"Supervised learning is the machine learning task of \n",
    "         learning a function that maps an input to an output based \n",
    "         on example input-output pairs [1] It infers a function \n",
    "         from labeled training data consisting of a set of \n",
    "         training examples [2] In supervised learning, each \n",
    "         example is a pair consisting of an input object \n",
    "         (typically a vector) and a desired output value (also \n",
    "         called the supervisory signal). A supervised learning \n",
    "         algorithm analyzes the training data and produces an \n",
    "         inferred function, which can be used for mapping new \n",
    "         examples. An optimal scenario will allow for the algorithm \n",
    "         to correctly determine the class labels for unseen \n",
    "         instances. This requires the learning algorithm to  \n",
    "         generalize from the training data to unseen situations \n",
    "         in a 'reasonable' way (see inductive bias)?\n",
    "      \"\"\""
   ]
  },
  {
   "cell_type": "code",
   "execution_count": 4,
   "id": "a1afaf0b",
   "metadata": {},
   "outputs": [
    {
     "data": {
      "text/plain": [
       "\"Supervised learning is the machine learning task of \\n         learning a function that maps an input to an output based \\n         on example input-output pairs [1] It infers a function \\n         from labeled training data consisting of a set of \\n         training examples [2] In supervised learning, each \\n         example is a pair consisting of an input object \\n         (typically a vector) and a desired output value (also \\n         called the supervisory signal). A supervised learning \\n         algorithm analyzes the training data and produces an \\n         inferred function, which can be used for mapping new \\n         examples. An optimal scenario will allow for the algorithm \\n         to correctly determine the class labels for unseen \\n         instances. This requires the learning algorithm to  \\n         generalize from the training data to unseen situations \\n         in a 'reasonable' way (see inductive bias)?\\n      \""
      ]
     },
     "execution_count": 4,
     "metadata": {},
     "output_type": "execute_result"
    }
   ],
   "source": [
    "doc"
   ]
  },
  {
   "cell_type": "code",
   "execution_count": 5,
   "id": "b52aad7c",
   "metadata": {},
   "outputs": [
    {
     "data": {
      "text/plain": [
       "[supervised,\n",
       " learning,\n",
       " machine,\n",
       " learn,\n",
       " task,\n",
       " learn,\n",
       " function,\n",
       " map,\n",
       " input,\n",
       " output,\n",
       " base,\n",
       " example,\n",
       " input,\n",
       " output,\n",
       " pair,\n",
       " 1,\n",
       " infer,\n",
       " function,\n",
       " label,\n",
       " training,\n",
       " datum,\n",
       " consist,\n",
       " set,\n",
       " training,\n",
       " example,\n",
       " 2,\n",
       " supervised,\n",
       " learning,\n",
       " example,\n",
       " pair,\n",
       " consist,\n",
       " input,\n",
       " object,\n",
       " typically,\n",
       " vector,\n",
       " desire,\n",
       " output,\n",
       " value,\n",
       " call,\n",
       " supervisory,\n",
       " signal,\n",
       " supervised,\n",
       " learn,\n",
       " algorithm,\n",
       " analyze,\n",
       " training,\n",
       " datum,\n",
       " produce,\n",
       " infer,\n",
       " function,\n",
       " map,\n",
       " new,\n",
       " example,\n",
       " optimal,\n",
       " scenario,\n",
       " allow,\n",
       " algorithm,\n",
       " correctly,\n",
       " determine,\n",
       " class,\n",
       " label,\n",
       " unseen,\n",
       " instance,\n",
       " require,\n",
       " learning,\n",
       " algorithm,\n",
       " generalize,\n",
       " training,\n",
       " datum,\n",
       " unseen,\n",
       " situation,\n",
       " reasonable,\n",
       " way,\n",
       " inductive,\n",
       " bias]"
      ]
     },
     "execution_count": 5,
     "metadata": {},
     "output_type": "execute_result"
    }
   ],
   "source": [
    "import re\n",
    "def preprocessor(text):\n",
    "    text = re.sub('<[^>]*>', '', text)\n",
    "    text = re.sub('[\\W]+', '', text.lower())\n",
    "    return text\n",
    "\n",
    "\n",
    "tokens = nlp(doc)\n",
    "lemma_list = []\n",
    "for token in tokens:\n",
    "    if token.is_stop is False:\n",
    "        token_preprocessed = preprocessor(token.lemma_)\n",
    "        if token_preprocessed != '':\n",
    "             lemma_list.append(nlp(token_preprocessed))\n",
    "lemma_list\n",
    "        \n",
    "        "
   ]
  },
  {
   "cell_type": "markdown",
   "id": "9fbdcf96",
   "metadata": {},
   "source": [
    "### Trying with spacy models"
   ]
  },
  {
   "cell_type": "code",
   "execution_count": 9,
   "id": "e2f50761",
   "metadata": {},
   "outputs": [
    {
     "name": "stdout",
     "output_type": "stream",
     "text": [
      "Key:supervised learning \n",
      "Word Found:supervised \n",
      "Similarity score:0.8173653460799903\n",
      "----------------------------------------------------\n",
      "Key:supervised learning \n",
      "Word Found:learning \n",
      "Similarity score:0.8271284631559636\n",
      "----------------------------------------------------\n",
      "Key:supervised learning \n",
      "Word Found:learn \n",
      "Similarity score:0.5889739049717068\n",
      "----------------------------------------------------\n",
      "Key:supervised learning \n",
      "Word Found:learn \n",
      "Similarity score:0.5889739049717068\n",
      "----------------------------------------------------\n",
      "Key:supervised learning \n",
      "Word Found:training \n",
      "Similarity score:0.6670860332021503\n",
      "----------------------------------------------------\n",
      "Key:supervised learning \n",
      "Word Found:training \n",
      "Similarity score:0.6670860332021503\n",
      "----------------------------------------------------\n",
      "Key:supervised learning \n",
      "Word Found:supervised \n",
      "Similarity score:0.8173653460799903\n",
      "----------------------------------------------------\n",
      "Key:supervised learning \n",
      "Word Found:learning \n",
      "Similarity score:0.8271284631559636\n",
      "----------------------------------------------------\n",
      "Key:supervised learning \n",
      "Word Found:supervised \n",
      "Similarity score:0.8173653460799903\n",
      "----------------------------------------------------\n",
      "Key:supervised learning \n",
      "Word Found:learn \n",
      "Similarity score:0.5889739049717068\n",
      "----------------------------------------------------\n",
      "Key:supervised learning \n",
      "Word Found:training \n",
      "Similarity score:0.6670860332021503\n",
      "----------------------------------------------------\n",
      "Key:supervised learning \n",
      "Word Found:learning \n",
      "Similarity score:0.8271284631559636\n",
      "----------------------------------------------------\n",
      "Key:supervised learning \n",
      "Word Found:training \n",
      "Similarity score:0.6670860332021503\n",
      "----------------------------------------------------\n"
     ]
    }
   ],
   "source": [
    "key = nlp(\"supervised learning\")\n",
    "\n",
    "for i in lemma_list:\n",
    "    s = key.similarity(i)\n",
    "    \n",
    "    if s > 0.5:\n",
    "        print(\"Key:{} \\nWord Found:{} \\nSimilarity score:{}\".format(key,i,s))\n",
    "        print(\"----------------------------------------------------\")  \n"
   ]
  },
  {
   "cell_type": "markdown",
   "id": "f171a36d",
   "metadata": {},
   "source": [
    "### Trying with transformer models "
   ]
  },
  {
   "cell_type": "code",
   "execution_count": null,
   "id": "0bc6e4fe",
   "metadata": {},
   "outputs": [],
   "source": [
    "from sentence_transformers import SentenceTransformer, util\n",
    "import numpy as np"
   ]
  },
  {
   "cell_type": "code",
   "execution_count": 11,
   "id": "bd8b1ae1",
   "metadata": {},
   "outputs": [
    {
     "data": {
      "application/vnd.jupyter.widget-view+json": {
       "model_id": "40822b29ac9645c6a19d494172197080",
       "version_major": 2,
       "version_minor": 0
      },
      "text/plain": [
       "Downloading:   0%|          | 0.00/748 [00:00<?, ?B/s]"
      ]
     },
     "metadata": {},
     "output_type": "display_data"
    },
    {
     "data": {
      "application/vnd.jupyter.widget-view+json": {
       "model_id": "af17bbbde25b4efbb4fe32e0eaea4c9e",
       "version_major": 2,
       "version_minor": 0
      },
      "text/plain": [
       "Downloading:   0%|          | 0.00/3.92k [00:00<?, ?B/s]"
      ]
     },
     "metadata": {},
     "output_type": "display_data"
    },
    {
     "data": {
      "application/vnd.jupyter.widget-view+json": {
       "model_id": "2520fca4963248b7b2211abb734503ac",
       "version_major": 2,
       "version_minor": 0
      },
      "text/plain": [
       "Downloading:   0%|          | 0.00/2.00 [00:00<?, ?B/s]"
      ]
     },
     "metadata": {},
     "output_type": "display_data"
    },
    {
     "data": {
      "application/vnd.jupyter.widget-view+json": {
       "model_id": "9c384084b33a4c1097f4e29e7cf52ea2",
       "version_major": 2,
       "version_minor": 0
      },
      "text/plain": [
       "Downloading:   0%|          | 0.00/674 [00:00<?, ?B/s]"
      ]
     },
     "metadata": {},
     "output_type": "display_data"
    },
    {
     "data": {
      "application/vnd.jupyter.widget-view+json": {
       "model_id": "d21abc92e14c4ef5babe94a586f70e3a",
       "version_major": 2,
       "version_minor": 0
      },
      "text/plain": [
       "Downloading:   0%|          | 0.00/122 [00:00<?, ?B/s]"
      ]
     },
     "metadata": {},
     "output_type": "display_data"
    },
    {
     "data": {
      "application/vnd.jupyter.widget-view+json": {
       "model_id": "932676c978634874825db91e88cc9c07",
       "version_major": 2,
       "version_minor": 0
      },
      "text/plain": [
       "Downloading:   0%|          | 0.00/456k [00:00<?, ?B/s]"
      ]
     },
     "metadata": {},
     "output_type": "display_data"
    },
    {
     "data": {
      "application/vnd.jupyter.widget-view+json": {
       "model_id": "720728685fee4807838bb99ffda92ce4",
       "version_major": 2,
       "version_minor": 0
      },
      "text/plain": [
       "Downloading:   0%|          | 0.00/229 [00:00<?, ?B/s]"
      ]
     },
     "metadata": {},
     "output_type": "display_data"
    },
    {
     "data": {
      "application/vnd.jupyter.widget-view+json": {
       "model_id": "2e7b45110db54e14ba3e0b5236655f9f",
       "version_major": 2,
       "version_minor": 0
      },
      "text/plain": [
       "Downloading:   0%|          | 0.00/1.42G [00:00<?, ?B/s]"
      ]
     },
     "metadata": {},
     "output_type": "display_data"
    },
    {
     "data": {
      "application/vnd.jupyter.widget-view+json": {
       "model_id": "5d0d264f78374aee9bb174a362de604d",
       "version_major": 2,
       "version_minor": 0
      },
      "text/plain": [
       "Downloading:   0%|          | 0.00/52.0 [00:00<?, ?B/s]"
      ]
     },
     "metadata": {},
     "output_type": "display_data"
    },
    {
     "data": {
      "application/vnd.jupyter.widget-view+json": {
       "model_id": "daa11509f3cf475493fbfd8a6bfc94e4",
       "version_major": 2,
       "version_minor": 0
      },
      "text/plain": [
       "Downloading:   0%|          | 0.00/239 [00:00<?, ?B/s]"
      ]
     },
     "metadata": {},
     "output_type": "display_data"
    },
    {
     "data": {
      "application/vnd.jupyter.widget-view+json": {
       "model_id": "c571b76ee2174260bcd4bf8935899578",
       "version_major": 2,
       "version_minor": 0
      },
      "text/plain": [
       "Downloading:   0%|          | 0.00/1.36M [00:00<?, ?B/s]"
      ]
     },
     "metadata": {},
     "output_type": "display_data"
    },
    {
     "data": {
      "application/vnd.jupyter.widget-view+json": {
       "model_id": "2aa19e130e2048579b0a157e6d943fcc",
       "version_major": 2,
       "version_minor": 0
      },
      "text/plain": [
       "Downloading:   0%|          | 0.00/1.17k [00:00<?, ?B/s]"
      ]
     },
     "metadata": {},
     "output_type": "display_data"
    },
    {
     "data": {
      "application/vnd.jupyter.widget-view+json": {
       "model_id": "fa5c35fdc4bd48b3bd90396a0f30728e",
       "version_major": 2,
       "version_minor": 0
      },
      "text/plain": [
       "Downloading:   0%|          | 0.00/798k [00:00<?, ?B/s]"
      ]
     },
     "metadata": {},
     "output_type": "display_data"
    },
    {
     "data": {
      "application/vnd.jupyter.widget-view+json": {
       "model_id": "08ecd1d0cd4f4dde913e13d0033df373",
       "version_major": 2,
       "version_minor": 0
      },
      "text/plain": [
       "Downloading:   0%|          | 0.00/191 [00:00<?, ?B/s]"
      ]
     },
     "metadata": {},
     "output_type": "display_data"
    }
   ],
   "source": [
    "model = SentenceTransformer('stsb-roberta-large')"
   ]
  },
  {
   "cell_type": "code",
   "execution_count": 13,
   "id": "62b8471c",
   "metadata": {},
   "outputs": [
    {
     "name": "stdout",
     "output_type": "stream",
     "text": [
      "Sentence 1: Word\n",
      "Sentence 2: Word\n",
      "Similarity score: 1.0000007152557373\n"
     ]
    }
   ],
   "source": [
    "sentence1 = \"Word\"\n",
    "sentence2 = \"Word\"\n",
    "# encode sentences to get their embeddings\n",
    "embedding1 = model.encode(sentence1, convert_to_tensor=True)\n",
    "embedding2 = model.encode(sentence2, convert_to_tensor=True)\n",
    "# compute similarity scores of two embeddings\n",
    "cosine_scores = util.pytorch_cos_sim(embedding1, embedding2)\n",
    "print(\"Sentence 1:\", sentence1)\n",
    "print(\"Sentence 2:\", sentence2)\n",
    "print(\"Similarity score:\", cosine_scores.item())"
   ]
  },
  {
   "cell_type": "code",
   "execution_count": null,
   "id": "9c1eae41",
   "metadata": {},
   "outputs": [
    {
     "name": "stdout",
     "output_type": "stream",
     "text": [
      "Key:learn \n",
      "Word Found:learning \n",
      "Similarity score:tensor([[0.9376]])\n",
      "----------------------------------------------------\n",
      "Key:learn \n",
      "Word Found:learn \n",
      "Similarity score:tensor([[1.0000]])\n",
      "----------------------------------------------------\n",
      "Key:learn \n",
      "Word Found:learn \n",
      "Similarity score:tensor([[1.0000]])\n",
      "----------------------------------------------------\n"
     ]
    }
   ],
   "source": [
    "key = \"learn\"\n",
    "\n",
    "embedding1 = model.encode(key, convert_to_tensor=True)\n",
    "\n",
    "for i in lemma_list:\n",
    "    i = i.text\n",
    "     \n",
    "    embedding2 = model.encode(i, convert_to_tensor=True)\n",
    "    # compute similarity scores of two embeddings\n",
    "    cosine_scores = util.pytorch_cos_sim(embedding1, embedding2)\n",
    "    \n",
    "    if cosine_scores > 0.5:\n",
    "        print(\"Key:{} \\nWord Found:{} \\nSimilarity score:{}\".format(key,i,cosine_scores[0]))\n",
    "        print(\"----------------------------------------------------\")  "
   ]
  },
  {
   "cell_type": "code",
   "execution_count": null,
   "id": "608daeb2",
   "metadata": {},
   "outputs": [],
   "source": []
  }
 ],
 "metadata": {
  "kernelspec": {
   "display_name": "Python 3",
   "language": "python",
   "name": "python3"
  },
  "language_info": {
   "codemirror_mode": {
    "name": "ipython",
    "version": 3
   },
   "file_extension": ".py",
   "mimetype": "text/x-python",
   "name": "python",
   "nbconvert_exporter": "python",
   "pygments_lexer": "ipython3",
   "version": "3.8.11"
  }
 },
 "nbformat": 4,
 "nbformat_minor": 5
}
