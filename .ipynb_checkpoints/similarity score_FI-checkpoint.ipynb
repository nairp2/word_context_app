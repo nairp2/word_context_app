{
 "cells": [
  {
   "cell_type": "code",
   "execution_count": 2,
   "id": "3d1adfdc",
   "metadata": {},
   "outputs": [],
   "source": [
    "import spacy\n",
    "from spacy.language import Language\n",
    "import os\n",
    "import docx2txt\n",
    "import pandas as pd"
   ]
  },
  {
   "cell_type": "code",
   "execution_count": 3,
   "id": "f1bbb022",
   "metadata": {},
   "outputs": [
    {
     "name": "stdout",
     "output_type": "stream",
     "text": [
      "['tok2vec', 'tagger', 'attribute_ruler', 'lemmatizer']\n"
     ]
    }
   ],
   "source": [
    "nlp = spacy.load('en_core_web_lg',disable = ['ner', 'parser'])\n",
    "spacy_stopwords = spacy.lang.en.stop_words.STOP_WORDS\n",
    "print(nlp.pipe_names)"
   ]
  },
  {
   "cell_type": "code",
   "execution_count": 4,
   "id": "94ff9669",
   "metadata": {},
   "outputs": [
    {
     "name": "stdout",
     "output_type": "stream",
     "text": [
      "bbc_doc/business [] ['001.docx', '002.docx', '003.docx', '004.docx', '005.docx']\n",
      "Ad sales boost Time Warner profit\n",
      "\n",
      "\n",
      "\n",
      "Quarterly profits at US media giant TimeWarner jumped 76% to $1.13bn (£600m) for the three months to December, from $639m year-earlier.\n",
      "\n",
      "\n",
      "\n",
      "The firm, which is now one of the biggest investors in Google, benefited from sales of high-speed internet connections and higher advert sales. TimeWarner said fourth quarter sales rose 2% to $11.1bn from $10.9bn. Its profits were buoyed by one-off gains which offset a profit dip at Warner Bros, and less users for AOL.\n",
      "\n",
      "\n",
      "\n",
      "Time Warner said on Friday that it now owns 8% of search-engine Google. But its own internet business, AOL, had has mixed fortunes. It lost 464,000 subscribers in the fourth quarter profits were lower than in the preceding three quarters. However, the company said AOL's underlying profit before exceptional items rose 8% on the back of stronger internet advertising revenues. It hopes to increase subscribers by offering the online service free to TimeWarner internet customers and will try to sign up AOL's existing customers for high-speed broadband. TimeWarner also has to restate 2000 and 2003 results following a probe by the US Securities Exchange Commission (SEC), which is close to concluding.\n",
      "\n",
      "\n",
      "\n",
      "Time Warner's fourth quarter profits were slightly better than analysts' expectations. But its film division saw profits slump 27% to $284m, helped by box-office flops Alexander and Catwoman, a sharp contrast to year-earlier, when the third and final film in the Lord of the Rings trilogy boosted results. For the full-year, TimeWarner posted a profit of $3.36bn, up 27% from its 2003 performance, while revenues grew 6.4% to $42.09bn. \"Our financial performance was strong, meeting or exceeding all of our full-year objectives and greatly enhancing our flexibility,\" chairman and chief executive Richard Parsons said. For 2005, TimeWarner is projecting operating earnings growth of around 5%, and also expects higher revenue and wider profit margins.\n",
      "\n",
      "\n",
      "\n",
      "TimeWarner is to restate its accounts as part of efforts to resolve an inquiry into AOL by US market regulators. It has already offered to pay $300m to settle charges, in a deal that is under review by the SEC. The company said it was unable to estimate the amount it needed to set aside for legal reserves, which it previously set at $500m. It intends to adjust the way it accounts for a deal with German music publisher Bertelsmann's purchase of a stake in AOL Europe, which it had reported as advertising revenue. It will now book the sale of its stake in AOL Europe as a loss on the value of that stake.\n",
      "-----------------------------------------------------\n",
      "Dollar gains on Greenspan speech\n",
      "\n",
      "\n",
      "\n",
      "The dollar has hit its highest level against the euro in almost three months after the Federal Reserve head said the US trade deficit is set to stabilise.\n",
      "\n",
      "\n",
      "\n",
      "And Alan Greenspan highlighted the US government's willingness to curb spending and rising household savings as factors which may help to reduce it. In late trading in New York, the dollar reached $1.2871 against the euro, from $1.2974 on Thursday. Market concerns about the deficit has hit the greenback in recent months. On Friday, Federal Reserve chairman Mr Greenspan's speech in London ahead of the meeting of G7 finance ministers sent the dollar higher after it had earlier tumbled on the back of worse-than-expected US jobs data. \"I think the chairman's taking a much more sanguine view on the current account deficit than he's taken for some time,\" said Robert Sinche, head of currency strategy at Bank of America in New York. \"He's taking a longer-term view, laying out a set of conditions under which the current account deficit can improve this year and next.\"\n",
      "\n",
      "\n",
      "\n",
      "Worries about the deficit concerns about China do, however, remain. China's currency remains pegged to the dollar and the US currency's sharp falls in recent months have therefore made Chinese export prices highly competitive. But calls for a shift in Beijing's policy have fallen on deaf ears, despite recent comments in a major Chinese newspaper that the \"time is ripe\" for a loosening of the peg. The G7 meeting is thought unlikely to produce any meaningful movement in Chinese policy. In the meantime, the US Federal Reserve's decision on 2 February to boost interest rates by a quarter of a point - the sixth such move in as many months - has opened up a differential with European rates. The half-point window, some believe, could be enough to keep US assets looking more attractive, and could help prop up the dollar. The recent falls have partly been the result of big budget deficits, as well as the US's yawning current account gap, both of which need to be funded by the buying of US bonds and assets by foreign firms and governments. The White House will announce its budget on Monday, and many commentators believe the deficit will remain at close to half a trillion dollars.\n",
      "-----------------------------------------------------\n",
      "Yukos unit buyer faces loan claim\n",
      "\n",
      "\n",
      "\n",
      "The owners of embattled Russian oil giant Yukos are to ask the buyer of its former production unit to pay back a $900m (£479m) loan.\n",
      "\n",
      "\n",
      "\n",
      "State-owned Rosneft bought the Yugansk unit for $9.3bn in a sale forced by Russia to part settle a $27.5bn tax claim against Yukos. Yukos' owner Menatep Group says it will ask Rosneft to repay a loan that Yugansk had secured on its assets. Rosneft already faces a similar $540m repayment demand from foreign banks. Legal experts said Rosneft's purchase of Yugansk would include such obligations. \"The pledged assets are with Rosneft, so it will have to pay real money to the creditors to avoid seizure of Yugansk assets,\" said Moscow-based US lawyer Jamie Firestone, who is not connected to the case. Menatep Group's managing director Tim Osborne told the Reuters news agency: \"If they default, we will fight them where the rule of law exists under the international arbitration clauses of the credit.\"\n",
      "\n",
      "\n",
      "\n",
      "Rosneft officials were unavailable for comment. But the company has said it intends to take action against Menatep to recover some of the tax claims and debts owed by Yugansk. Yukos had filed for bankruptcy protection in a US court in an attempt to prevent the forced sale of its main production arm. The sale went ahead in December and Yugansk was sold to a little-known shell company which in turn was bought by Rosneft. Yukos claims its downfall was punishment for the political ambitions of its founder Mikhail Khodorkovsky and has vowed to sue any participant in the sale.\n",
      "-----------------------------------------------------\n",
      "High fuel prices hit BA's profits\n",
      "\n",
      "\n",
      "\n",
      "British Airways has blamed high fuel prices for a 40% drop in profits.\n",
      "\n",
      "\n",
      "\n",
      "Reporting its results for the three months to 31 December 2004, the airline made a pre-tax profit of £75m ($141m) compared with £125m a year earlier. Rod Eddington, BA's chief executive, said the results were \"respectable\" in a third quarter when fuel costs rose by £106m or 47.3%. BA's profits were still better than market expectation of £59m, and it expects a rise in full-year revenues.\n",
      "\n",
      "\n",
      "\n",
      "To help offset the increased price of aviation fuel, BA last year introduced a fuel surcharge for passengers.\n",
      "\n",
      "\n",
      "\n",
      "In October, it increased this from £6 to £10 one-way for all long-haul flights, while the short-haul surcharge was raised from £2.50 to £4 a leg. Yet aviation analyst Mike Powell of Dresdner Kleinwort Wasserstein says BA's estimated annual surcharge revenues - £160m - will still be way short of its additional fuel costs - a predicted extra £250m. Turnover for the quarter was up 4.3% to £1.97bn, further benefiting from a rise in cargo revenue. Looking ahead to its full year results to March 2005, BA warned that yields - average revenues per passenger - were expected to decline as it continues to lower prices in the face of competition from low-cost carriers. However, it said sales would be better than previously forecast. \"For the year to March 2005, the total revenue outlook is slightly better than previous guidance with a 3% to 3.5% improvement anticipated,\" BA chairman Martin Broughton said. BA had previously forecast a 2% to 3% rise in full-year revenue.\n",
      "\n",
      "\n",
      "\n",
      "It also reported on Friday that passenger numbers rose 8.1% in January. Aviation analyst Nick Van den Brul of BNP Paribas described BA's latest quarterly results as \"pretty modest\". \"It is quite good on the revenue side and it shows the impact of fuel surcharges and a positive cargo development, however, operating margins down and cost impact of fuel are very strong,\" he said. Since the 11 September 2001 attacks in the United States, BA has cut 13,000 jobs as part of a major cost-cutting drive. \"Our focus remains on reducing controllable costs and debt whilst continuing to invest in our products,\" Mr Eddington said. \"For example, we have taken delivery of six Airbus A321 aircraft and next month we will start further improvements to our Club World flat beds.\" BA's shares closed up four pence at 274.5 pence.\n",
      "-----------------------------------------------------\n",
      "Pernod takeover talk lifts Domecq\n",
      "\n",
      "\n",
      "\n",
      "Shares in UK drinks and food firm Allied Domecq have risen on speculation that it could be the target of a takeover by France's Pernod Ricard.\n",
      "\n",
      "\n",
      "\n",
      "Reports in the Wall Street Journal and the Financial Times suggested that the French spirits firm is considering a bid, but has yet to contact its target. Allied Domecq shares in London rose 4% by 1200 GMT, while Pernod shares in Paris slipped 1.2%. Pernod said it was seeking acquisitions but refused to comment on specifics.\n",
      "\n",
      "\n",
      "\n",
      "Pernod's last major purchase was a third of US giant Seagram in 2000, the move which propelled it into the global top three of drinks firms. The other two-thirds of Seagram was bought by market leader Diageo. In terms of market value, Pernod - at 7.5bn euros ($9.7bn) - is about 9% smaller than Allied Domecq, which has a capitalisation of £5.7bn ($10.7bn; 8.2bn euros). Last year Pernod tried to buy Glenmorangie, one of Scotland's premier whisky firms, but lost out to luxury goods firm LVMH. Pernod is home to brands including Chivas Regal Scotch whisky, Havana Club rum and Jacob's Creek wine. Allied Domecq's big names include Malibu rum, Courvoisier brandy, Stolichnaya vodka and Ballantine's whisky - as well as snack food chains such as Dunkin' Donuts and Baskin-Robbins ice cream. The WSJ said that the two were ripe for consolidation, having each dealt with problematic parts of their portfolio. Pernod has reduced the debt it took on to fund the Seagram purchase to just 1.8bn euros, while Allied has improved the performance of its fast-food chains.\n",
      "-----------------------------------------------------\n"
     ]
    }
   ],
   "source": [
    "business_txt_list = []\n",
    "path_l = []\n",
    "for root, dirs, files in os.walk('bbc_doc/business'):\n",
    "    print(root, dirs, files)\n",
    "    \n",
    "    if files:\n",
    "        for i in files:\n",
    "            path = \"{}\\{}\".format(root,i)\n",
    "            #print(path)\n",
    "            result = docx2txt.process(path)\n",
    "            business_txt_list.append(result)\n",
    "            path_l.append(path)\n",
    "            print(result)\n",
    "            \n",
    "            print('-----------------------------------------------------')"
   ]
  },
  {
   "cell_type": "code",
   "execution_count": 5,
   "id": "2672f446",
   "metadata": {},
   "outputs": [
    {
     "data": {
      "text/plain": [
       "['bbc_doc/business\\\\001.docx',\n",
       " 'bbc_doc/business\\\\002.docx',\n",
       " 'bbc_doc/business\\\\003.docx',\n",
       " 'bbc_doc/business\\\\004.docx',\n",
       " 'bbc_doc/business\\\\005.docx']"
      ]
     },
     "execution_count": 5,
     "metadata": {},
     "output_type": "execute_result"
    }
   ],
   "source": [
    "path_l"
   ]
  },
  {
   "cell_type": "code",
   "execution_count": 6,
   "id": "878ecaff",
   "metadata": {},
   "outputs": [
    {
     "data": {
      "text/plain": [
       "'Ad sales boost Time Warner profit\\n\\n\\n\\nQuarterly profits at US media giant TimeWarner jumped 76% to $1.13bn (£600m) for the three months to December, from $639m year-earlier.\\n\\n\\n\\nThe firm, which is now one of the biggest investors in Google, benefited from sales of high-speed internet connections and higher advert sales. TimeWarner said fourth quarter sales rose 2% to $11.1bn from $10.9bn. Its profits were buoyed by one-off gains which offset a profit dip at Warner Bros, and less users for AOL.\\n\\n\\n\\nTime Warner said on Friday that it now owns 8% of search-engine Google. But its own internet business, AOL, had has mixed fortunes. It lost 464,000 subscribers in the fourth quarter profits were lower than in the preceding three quarters. However, the company said AOL\\'s underlying profit before exceptional items rose 8% on the back of stronger internet advertising revenues. It hopes to increase subscribers by offering the online service free to TimeWarner internet customers and will try to sign up AOL\\'s existing customers for high-speed broadband. TimeWarner also has to restate 2000 and 2003 results following a probe by the US Securities Exchange Commission (SEC), which is close to concluding.\\n\\n\\n\\nTime Warner\\'s fourth quarter profits were slightly better than analysts\\' expectations. But its film division saw profits slump 27% to $284m, helped by box-office flops Alexander and Catwoman, a sharp contrast to year-earlier, when the third and final film in the Lord of the Rings trilogy boosted results. For the full-year, TimeWarner posted a profit of $3.36bn, up 27% from its 2003 performance, while revenues grew 6.4% to $42.09bn. \"Our financial performance was strong, meeting or exceeding all of our full-year objectives and greatly enhancing our flexibility,\" chairman and chief executive Richard Parsons said. For 2005, TimeWarner is projecting operating earnings growth of around 5%, and also expects higher revenue and wider profit margins.\\n\\n\\n\\nTimeWarner is to restate its accounts as part of efforts to resolve an inquiry into AOL by US market regulators. It has already offered to pay $300m to settle charges, in a deal that is under review by the SEC. The company said it was unable to estimate the amount it needed to set aside for legal reserves, which it previously set at $500m. It intends to adjust the way it accounts for a deal with German music publisher Bertelsmann\\'s purchase of a stake in AOL Europe, which it had reported as advertising revenue. It will now book the sale of its stake in AOL Europe as a loss on the value of that stake.'"
      ]
     },
     "execution_count": 6,
     "metadata": {},
     "output_type": "execute_result"
    }
   ],
   "source": [
    "txt001 = business_txt_list[0]\n",
    "txt001"
   ]
  },
  {
   "cell_type": "code",
   "execution_count": 7,
   "id": "6ed893af",
   "metadata": {},
   "outputs": [],
   "source": [
    "query = \"profit\""
   ]
  },
  {
   "cell_type": "code",
   "execution_count": null,
   "id": "fdc725da",
   "metadata": {},
   "outputs": [],
   "source": []
  },
  {
   "cell_type": "code",
   "execution_count": 5,
   "id": "b52aad7c",
   "metadata": {},
   "outputs": [
    {
     "data": {
      "text/plain": [
       "[supervised,\n",
       " learning,\n",
       " machine,\n",
       " learn,\n",
       " task,\n",
       " learn,\n",
       " function,\n",
       " map,\n",
       " input,\n",
       " output,\n",
       " base,\n",
       " example,\n",
       " input,\n",
       " output,\n",
       " pair,\n",
       " 1,\n",
       " infer,\n",
       " function,\n",
       " label,\n",
       " training,\n",
       " datum,\n",
       " consist,\n",
       " set,\n",
       " training,\n",
       " example,\n",
       " 2,\n",
       " supervised,\n",
       " learning,\n",
       " example,\n",
       " pair,\n",
       " consist,\n",
       " input,\n",
       " object,\n",
       " typically,\n",
       " vector,\n",
       " desire,\n",
       " output,\n",
       " value,\n",
       " call,\n",
       " supervisory,\n",
       " signal,\n",
       " supervised,\n",
       " learn,\n",
       " algorithm,\n",
       " analyze,\n",
       " training,\n",
       " datum,\n",
       " produce,\n",
       " infer,\n",
       " function,\n",
       " map,\n",
       " new,\n",
       " example,\n",
       " optimal,\n",
       " scenario,\n",
       " allow,\n",
       " algorithm,\n",
       " correctly,\n",
       " determine,\n",
       " class,\n",
       " label,\n",
       " unseen,\n",
       " instance,\n",
       " require,\n",
       " learning,\n",
       " algorithm,\n",
       " generalize,\n",
       " training,\n",
       " datum,\n",
       " unseen,\n",
       " situation,\n",
       " reasonable,\n",
       " way,\n",
       " inductive,\n",
       " bias]"
      ]
     },
     "execution_count": 5,
     "metadata": {},
     "output_type": "execute_result"
    }
   ],
   "source": [
    "import re\n",
    "def preprocessor(text):\n",
    "    text = re.sub('<[^>]*>', '', text)\n",
    "    text = re.sub('[\\W]+', '', text.lower())\n",
    "    return text\n",
    "\n",
    "\n",
    "tokens = nlp(doc)\n",
    "lemma_list = []\n",
    "for token in tokens:\n",
    "    if token.is_stop is False:\n",
    "        token_preprocessed = preprocessor(token.lemma_)\n",
    "        if token_preprocessed != '':\n",
    "             lemma_list.append(nlp(token_preprocessed))\n",
    "lemma_list\n",
    "        \n",
    "        "
   ]
  },
  {
   "cell_type": "markdown",
   "id": "9fbdcf96",
   "metadata": {},
   "source": [
    "### Trying with spacy models"
   ]
  },
  {
   "cell_type": "code",
   "execution_count": 24,
   "id": "e2f50761",
   "metadata": {},
   "outputs": [
    {
     "name": "stdout",
     "output_type": "stream",
     "text": [
      "Key:learn \n",
      "Word Found:learning \n",
      "Similarity score:0.77\n",
      "----------------------------------------------------\n",
      "Key:learn \n",
      "Word Found:learn \n",
      "Similarity score:1.00\n",
      "----------------------------------------------------\n",
      "Key:learn \n",
      "Word Found:learn \n",
      "Similarity score:1.00\n",
      "----------------------------------------------------\n",
      "Key:learn \n",
      "Word Found:training \n",
      "Similarity score:0.54\n",
      "----------------------------------------------------\n",
      "Key:learn \n",
      "Word Found:training \n",
      "Similarity score:0.54\n",
      "----------------------------------------------------\n",
      "Key:learn \n",
      "Word Found:learning \n",
      "Similarity score:0.77\n",
      "----------------------------------------------------\n",
      "Key:learn \n",
      "Word Found:learn \n",
      "Similarity score:1.00\n",
      "----------------------------------------------------\n",
      "Key:learn \n",
      "Word Found:training \n",
      "Similarity score:0.54\n",
      "----------------------------------------------------\n",
      "Key:learn \n",
      "Word Found:learning \n",
      "Similarity score:0.77\n",
      "----------------------------------------------------\n",
      "Key:learn \n",
      "Word Found:training \n",
      "Similarity score:0.54\n",
      "----------------------------------------------------\n",
      "Key:learn \n",
      "Word Found:way \n",
      "Similarity score:0.60\n",
      "----------------------------------------------------\n"
     ]
    }
   ],
   "source": [
    "key = nlp(\"learn\")\n",
    "\n",
    "for i in lemma_list:\n",
    "    s = key.similarity(i)\n",
    "    \n",
    "    if s > 0.5:\n",
    "        print(\"Key:{} \\nWord Found:{} \\nSimilarity score:{:0.2f}\".format(key,i,s))\n",
    "        print(\"----------------------------------------------------\")  \n"
   ]
  },
  {
   "cell_type": "markdown",
   "id": "f171a36d",
   "metadata": {},
   "source": [
    "### Trying with transformer models "
   ]
  },
  {
   "cell_type": "code",
   "execution_count": 7,
   "id": "0bc6e4fe",
   "metadata": {},
   "outputs": [],
   "source": [
    "from sentence_transformers import SentenceTransformer, util\n",
    "import numpy as np"
   ]
  },
  {
   "cell_type": "code",
   "execution_count": 8,
   "id": "bd8b1ae1",
   "metadata": {},
   "outputs": [],
   "source": [
    "model = SentenceTransformer('stsb-roberta-large')"
   ]
  },
  {
   "cell_type": "code",
   "execution_count": 9,
   "id": "62b8471c",
   "metadata": {},
   "outputs": [
    {
     "name": "stdout",
     "output_type": "stream",
     "text": [
      "Sentence 1: Word\n",
      "Sentence 2: Word\n",
      "Similarity score: 1.0000007152557373\n"
     ]
    }
   ],
   "source": [
    "sentence1 = \"Word\"\n",
    "sentence2 = \"Word\"\n",
    "# encode sentences to get their embeddings\n",
    "embedding1 = model.encode(sentence1, convert_to_tensor=True)\n",
    "embedding2 = model.encode(sentence2, convert_to_tensor=True)\n",
    "# compute similarity scores of two embeddings\n",
    "cosine_scores = util.pytorch_cos_sim(embedding1, embedding2)\n",
    "print(\"Sentence 1:\", sentence1)\n",
    "print(\"Sentence 2:\", sentence2)\n",
    "print(\"Similarity score:\", cosine_scores.item())"
   ]
  },
  {
   "cell_type": "code",
   "execution_count": 23,
   "id": "9c1eae41",
   "metadata": {},
   "outputs": [
    {
     "name": "stdout",
     "output_type": "stream",
     "text": [
      "Key:learn \n",
      "Word Found:learning \n",
      "Similarity score:0.94\n",
      "----------------------------------------------------\n",
      "Key:learn \n",
      "Word Found:learn \n",
      "Similarity score:1.00\n",
      "----------------------------------------------------\n",
      "Key:learn \n",
      "Word Found:learn \n",
      "Similarity score:1.00\n",
      "----------------------------------------------------\n",
      "Key:learn \n",
      "Word Found:training \n",
      "Similarity score:0.52\n",
      "----------------------------------------------------\n",
      "Key:learn \n",
      "Word Found:training \n",
      "Similarity score:0.52\n",
      "----------------------------------------------------\n",
      "Key:learn \n",
      "Word Found:learning \n",
      "Similarity score:0.94\n",
      "----------------------------------------------------\n",
      "Key:learn \n",
      "Word Found:learn \n",
      "Similarity score:1.00\n",
      "----------------------------------------------------\n",
      "Key:learn \n",
      "Word Found:training \n",
      "Similarity score:0.52\n",
      "----------------------------------------------------\n",
      "Key:learn \n",
      "Word Found:class \n",
      "Similarity score:0.51\n",
      "----------------------------------------------------\n",
      "Key:learn \n",
      "Word Found:learning \n",
      "Similarity score:0.94\n",
      "----------------------------------------------------\n",
      "Key:learn \n",
      "Word Found:training \n",
      "Similarity score:0.52\n",
      "----------------------------------------------------\n"
     ]
    }
   ],
   "source": [
    "key = \"learn\"\n",
    "\n",
    "embedding1 = model.encode(key, convert_to_tensor=True)\n",
    "\n",
    "for i in lemma_list:\n",
    "    i = i.text\n",
    "     \n",
    "    embedding2 = model.encode(i, convert_to_tensor=True)\n",
    "    # compute similarity scores of two embeddings\n",
    "    cosine_scores = util.pytorch_cos_sim(embedding1, embedding2)\n",
    "    \n",
    "    if cosine_scores > 0.5:\n",
    "        print(\"Key:{} \\nWord Found:{} \\nSimilarity score:{:0.2f}\".format(key,i,np.array(cosine_scores)[0][0]))\n",
    "        print(\"----------------------------------------------------\")  "
   ]
  },
  {
   "cell_type": "code",
   "execution_count": null,
   "id": "839549c3",
   "metadata": {},
   "outputs": [],
   "source": []
  }
 ],
 "metadata": {
  "kernelspec": {
   "display_name": "Python 3 (ipykernel)",
   "language": "python",
   "name": "python3"
  },
  "language_info": {
   "codemirror_mode": {
    "name": "ipython",
    "version": 3
   },
   "file_extension": ".py",
   "mimetype": "text/x-python",
   "name": "python",
   "nbconvert_exporter": "python",
   "pygments_lexer": "ipython3",
   "version": "3.8.11"
  }
 },
 "nbformat": 4,
 "nbformat_minor": 5
}
