{
 "cells": [
  {
   "cell_type": "code",
   "execution_count": 14,
   "id": "3d1adfdc",
   "metadata": {},
   "outputs": [],
   "source": [
    "import spacy\n",
    "from spacy.language import Language"
   ]
  },
  {
   "cell_type": "code",
   "execution_count": 15,
   "id": "f1bbb022",
   "metadata": {
    "scrolled": true
   },
   "outputs": [
    {
     "name": "stdout",
     "output_type": "stream",
     "text": [
      "['tok2vec', 'tagger', 'attribute_ruler', 'lemmatizer']\n"
     ]
    }
   ],
   "source": [
    "nlp = spacy.load('en_core_web_lg',disable = ['ner', 'parser'])\n",
    "spacy_stopwords = spacy.lang.en.stop_words.STOP_WORDS\n",
    "print(nlp.pipe_names)"
   ]
  },
  {
   "cell_type": "code",
   "execution_count": 16,
   "id": "45878ef9",
   "metadata": {},
   "outputs": [],
   "source": [
    "doc = \"\"\"Supervised learning is the machine learning task of \n",
    "         learning a function that maps an input to an output based \n",
    "         on example input-output pairs [1] It infers a function \n",
    "         from labeled training data consisting of a set of \n",
    "         training examples [2] In supervised learning, each \n",
    "         example is a pair consisting of an input object \n",
    "         (typically a vector) and a desired output value (also \n",
    "         called the supervisory signal). A supervised learning \n",
    "         algorithm analyzes the training data and produces an \n",
    "         inferred function, which can be used for mapping new \n",
    "         examples. An optimal scenario will allow for the algorithm \n",
    "         to correctly determine the class labels for unseen \n",
    "         instances. This requires the learning algorithm to  \n",
    "         generalize from the training data to unseen situations \n",
    "         in a 'reasonable' way (see inductive bias)?\n",
    "      \"\"\""
   ]
  },
  {
   "cell_type": "code",
   "execution_count": 17,
   "id": "a1afaf0b",
   "metadata": {},
   "outputs": [
    {
     "data": {
      "text/plain": [
       "\"Supervised learning is the machine learning task of \\n         learning a function that maps an input to an output based \\n         on example input-output pairs [1] It infers a function \\n         from labeled training data consisting of a set of \\n         training examples [2] In supervised learning, each \\n         example is a pair consisting of an input object \\n         (typically a vector) and a desired output value (also \\n         called the supervisory signal). A supervised learning \\n         algorithm analyzes the training data and produces an \\n         inferred function, which can be used for mapping new \\n         examples. An optimal scenario will allow for the algorithm \\n         to correctly determine the class labels for unseen \\n         instances. This requires the learning algorithm to  \\n         generalize from the training data to unseen situations \\n         in a 'reasonable' way (see inductive bias)?\\n      \""
      ]
     },
     "execution_count": 17,
     "metadata": {},
     "output_type": "execute_result"
    }
   ],
   "source": [
    "doc"
   ]
  },
  {
   "cell_type": "code",
   "execution_count": 18,
   "id": "5cdb8784",
   "metadata": {},
   "outputs": [],
   "source": [
    "query = \"learning\""
   ]
  },
  {
   "cell_type": "code",
   "execution_count": 19,
   "id": "855603f1",
   "metadata": {},
   "outputs": [],
   "source": [
    "import docx2txt\n",
    "\n",
    "# read in word file\n",
    "result = docx2txt.process(\"doc_file.docx\")\n",
    "\n",
    "# Saving content inside docx file into output.txt file\n",
    "with open(\"doc_file.txt\", \"w\") as text_file:\n",
    "    print(result, file=text_file)"
   ]
  },
  {
   "cell_type": "code",
   "execution_count": 20,
   "id": "b52aad7c",
   "metadata": {},
   "outputs": [
    {
     "data": {
      "text/plain": [
       "[supervised,\n",
       " learning,\n",
       " machine,\n",
       " learn,\n",
       " task,\n",
       " learn,\n",
       " function,\n",
       " map,\n",
       " input,\n",
       " output,\n",
       " base,\n",
       " example,\n",
       " input,\n",
       " output,\n",
       " pair,\n",
       " 1,\n",
       " infer,\n",
       " function,\n",
       " label,\n",
       " training,\n",
       " datum,\n",
       " consist,\n",
       " set,\n",
       " training,\n",
       " example,\n",
       " 2,\n",
       " supervised,\n",
       " learning,\n",
       " example,\n",
       " pair,\n",
       " consist,\n",
       " input,\n",
       " object,\n",
       " typically,\n",
       " vector,\n",
       " desire,\n",
       " output,\n",
       " value,\n",
       " call,\n",
       " supervisory,\n",
       " signal,\n",
       " supervised,\n",
       " learn,\n",
       " algorithm,\n",
       " analyze,\n",
       " training,\n",
       " datum,\n",
       " produce,\n",
       " infer,\n",
       " function,\n",
       " map,\n",
       " new,\n",
       " example,\n",
       " optimal,\n",
       " scenario,\n",
       " allow,\n",
       " algorithm,\n",
       " correctly,\n",
       " determine,\n",
       " class,\n",
       " label,\n",
       " unseen,\n",
       " instance,\n",
       " require,\n",
       " learning,\n",
       " algorithm,\n",
       " generalize,\n",
       " training,\n",
       " datum,\n",
       " unseen,\n",
       " situation,\n",
       " reasonable,\n",
       " way,\n",
       " inductive,\n",
       " bias]"
      ]
     },
     "execution_count": 20,
     "metadata": {},
     "output_type": "execute_result"
    }
   ],
   "source": [
    "import re\n",
    "def preprocessor(text):\n",
    "    text = re.sub('<[^>]*>', '', text)\n",
    "    text = re.sub('[\\W]+', '', text.lower())\n",
    "    return text\n",
    "\n",
    "tokens = nlp(doc)\n",
    "lemma_list = []\n",
    "for token in tokens:\n",
    "    if token.is_stop is False:\n",
    "        token_preprocessed = preprocessor(token.text)\n",
    "        if token_preprocessed != '':\n",
    "             lemma_list.append(nlp(token_preprocessed))\n",
    "lemma_list\n",
    "        \n",
    "        "
   ]
  },
  {
   "cell_type": "code",
   "execution_count": 21,
   "id": "82f1572b",
   "metadata": {},
   "outputs": [
    {
     "name": "stderr",
     "output_type": "stream",
     "text": [
      "[nltk_data] Downloading package stopwords to\n",
      "[nltk_data]     C:\\Users\\pnair\\AppData\\Roaming\\nltk_data...\n",
      "[nltk_data]   Package stopwords is already up-to-date!\n",
      "[nltk_data] Downloading package punkt to\n",
      "[nltk_data]     C:\\Users\\pnair\\AppData\\Roaming\\nltk_data...\n",
      "[nltk_data]   Package punkt is already up-to-date!\n"
     ]
    }
   ],
   "source": [
    "import nltk\n",
    "from nltk.corpus import stopwords\n",
    "nltk.download('stopwords')\n",
    "nltk.download('punkt')\n",
    "from nltk.tokenize import word_tokenize\n",
    "stop_words = set(stopwords.words(\"english\"))"
   ]
  },
  {
   "cell_type": "code",
   "execution_count": 22,
   "id": "9530c321",
   "metadata": {},
   "outputs": [],
   "source": [
    "tokens_str = doc.lower()\n",
    "tokens_str = word_tokenize(tokens_str)\n",
    "tokens_str = [i for i in tokens_str if not i in stop_words]"
   ]
  },
  {
   "cell_type": "code",
   "execution_count": 23,
   "id": "ed1af912",
   "metadata": {},
   "outputs": [],
   "source": [
    "wordfreq = []\n",
    "for w in tokens_str:\n",
    "    wordfreq.append(tokens_str.count(w))\n",
    "\n",
    "#print(\"List\\n\" + str(tokens_str) + \"\\n\")\n",
    "#print(\"Frequencies\\n\" + str(wordfreq) + \"\\n\")\n",
    "#print(\"Pairs\\n\" + str(list(zip(tokens_str, wordfreq))))\n",
    "\n",
    "for i in list(zip(tokens_str, wordfreq)):\n",
    "    if query == i[0]:\n",
    "        word_occurences = (i[0], i[1])\n",
    "        break"
   ]
  },
  {
   "cell_type": "code",
   "execution_count": 24,
   "id": "cdb5068a",
   "metadata": {},
   "outputs": [],
   "source": [
    "# count number of\n",
    "# lines in the file\n",
    "line = 0\n",
    "for word in doc:\n",
    "    if word == '\\n':\n",
    "        line += 1\n",
    "#print(\"Number of lines in file is: \", line)\n",
    "\n",
    "doc_list = doc.splitlines()\n",
    "\n",
    "line_num = []\n",
    "\n",
    "def findline(word):\n",
    "    for i in range(len(doc_list)):\n",
    "        if word in doc_list[i]:\n",
    "            line_num.append(i+1)\n",
    "    print(line_num)"
   ]
  },
  {
   "cell_type": "code",
   "execution_count": 25,
   "id": "e2f50761",
   "metadata": {},
   "outputs": [
    {
     "name": "stdout",
     "output_type": "stream",
     "text": [
      "Key:learning \n",
      "Word Found:learning \n",
      "Similarity score:1.0\n",
      "----------------------------------------------------\n",
      "Key:learning \n",
      "Word Found:learn \n",
      "Similarity score:0.7682947823942914\n",
      "----------------------------------------------------\n",
      "Key:learning \n",
      "Word Found:learn \n",
      "Similarity score:0.7682947823942914\n",
      "----------------------------------------------------\n",
      "Key:learning \n",
      "Word Found:training \n",
      "Similarity score:0.6306880168795931\n",
      "----------------------------------------------------\n",
      "Key:learning \n",
      "Word Found:training \n",
      "Similarity score:0.6306880168795931\n",
      "----------------------------------------------------\n",
      "Key:learning \n",
      "Word Found:learning \n",
      "Similarity score:1.0\n",
      "----------------------------------------------------\n",
      "Key:learning \n",
      "Word Found:learn \n",
      "Similarity score:0.7682947823942914\n",
      "----------------------------------------------------\n",
      "Key:learning \n",
      "Word Found:training \n",
      "Similarity score:0.6306880168795931\n",
      "----------------------------------------------------\n",
      "Key:learning \n",
      "Word Found:learning \n",
      "Similarity score:1.0\n",
      "----------------------------------------------------\n",
      "Key:learning \n",
      "Word Found:training \n",
      "Similarity score:0.6306880168795931\n",
      "----------------------------------------------------\n",
      "The word learning exists in the lines below:\n",
      "[1, 2, 5, 8, 13]\n",
      "Total Word Occurences:('learning', 6)\n",
      "----------------------------------------------------\n"
     ]
    }
   ],
   "source": [
    "key = nlp(query)\n",
    "\n",
    "\n",
    "for i in lemma_list:\n",
    "    s = key.similarity(i)\n",
    "    \n",
    "    if s > 0.5:\n",
    "        print(\"Key:{} \\nWord Found:{} \\nSimilarity score:{:0.2f}\".format(key,i,s))\n",
    "        \n",
    "        print(\"----------------------------------------------------\")\n",
    "print(\"The word {} exists in the lines below:\".format(query))\n",
    "findline(query)\n",
    "print(\"Total Word Occurences:{}\".format(word_occurences))\n",
    "print(\"----------------------------------------------------\")"
   ]
  },
  {
   "cell_type": "code",
   "execution_count": null,
   "id": "67609a92",
   "metadata": {},
   "outputs": [],
   "source": []
  }
 ],
 "metadata": {
  "kernelspec": {
   "display_name": "Python 3 (ipykernel)",
   "language": "python",
   "name": "python3"
  },
  "language_info": {
   "codemirror_mode": {
    "name": "ipython",
    "version": 3
   },
   "file_extension": ".py",
   "mimetype": "text/x-python",
   "name": "python",
   "nbconvert_exporter": "python",
   "pygments_lexer": "ipython3",
   "version": "3.8.11"
  }
 },
 "nbformat": 4,
 "nbformat_minor": 5
}
